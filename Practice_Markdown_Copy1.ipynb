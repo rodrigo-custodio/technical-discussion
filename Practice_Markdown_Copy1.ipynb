{
  "nbformat": 4,
  "nbformat_minor": 0,
  "metadata": {
    "celltoolbar": "Raw Cell Format",
    "kernelspec": {
      "display_name": "Python 3",
      "language": "python",
      "name": "python3"
    },
    "language_info": {
      "codemirror_mode": {
        "name": "ipython",
        "version": 3
      },
      "file_extension": ".py",
      "mimetype": "text/x-python",
      "name": "python",
      "nbconvert_exporter": "python",
      "pygments_lexer": "ipython3",
      "version": "3.7.6"
    },
    "colab": {
      "name": "Practice-Markdown-Copy1.ipynb",
      "provenance": [],
      "include_colab_link": true
    }
  },
  "cells": [
    {
      "cell_type": "markdown",
      "metadata": {
        "id": "view-in-github",
        "colab_type": "text"
      },
      "source": [
        "<a href=\"https://colab.research.google.com/github/rodrigo-custodio/technical-discussion/blob/main/Practice_Markdown_Copy1.ipynb\" target=\"_parent\"><img src=\"https://colab.research.google.com/assets/colab-badge.svg\" alt=\"Open In Colab\"/></a>"
      ]
    },
    {
      "cell_type": "markdown",
      "metadata": {
        "id": "wH3ubKLmwHR0"
      },
      "source": [
        "## Practice Markdown"
      ]
    },
    {
      "cell_type": "markdown",
      "metadata": {
        "id": "ss3unxOLwHR3"
      },
      "source": [
        "# This notebook lets you experiment with producing repeatable technical documentation.  Use this notebook to do the following actions:\n",
        "\n",
        "* Create a code cell and print a Python Hello World statement:  `print(\"hello world\")`\n",
        "* Create a Markdown Cell and add a Title using `#` and then a statement using plain text.  You can looks at the source code for this cell to get an idea of how to use Markdown.\n",
        "* Take some ideas from the [Master Markdown Github Guide](https://guides.github.com/features/mastering-markdown/) and implement them here.\n",
        "* Download this notebook as a `.ipynb` file and check into a Github Project.  You can [see an example here](https://github.com/noahgift/duke-coursera-ccf-lab1/blob/main/Practice-Markdown.ipynb).\n",
        "* Open your notebook in Google Colab and save it into the same Github Project.  You can [see an example here](https://github.com/noahgift/duke-coursera-ccf-lab1/blob/main/Practice_Markdown_with_colab.ipynb).\n"
      ]
    },
    {
      "cell_type": "code",
      "metadata": {
        "id": "kn1ytLvywHR5",
        "outputId": "8610c56f-6340-4324-8c92-e52fac5b95f4"
      },
      "source": [
        "print(\"hello world\")"
      ],
      "execution_count": null,
      "outputs": [
        {
          "name": "stdout",
          "output_type": "stream",
          "text": [
            "hello world\n"
          ]
        }
      ]
    },
    {
      "cell_type": "markdown",
      "metadata": {
        "id": "Yq7hg5ROwHR7"
      },
      "source": [
        "# This is a markdown"
      ]
    },
    {
      "cell_type": "markdown",
      "metadata": {
        "id": "xAkf3X4ywHR7"
      },
      "source": [
        "* Point 1\n",
        "* Point 2\n",
        "* Point 3"
      ]
    },
    {
      "cell_type": "markdown",
      "metadata": {
        "id": "7zNHjVZJwHR7"
      },
      "source": [
        "I am feeling ~~sad~~ happy"
      ]
    },
    {
      "cell_type": "markdown",
      "metadata": {
        "id": "idb4DNRswHR8"
      },
      "source": [
        "Name | Age\n",
        "---- |-------------\n",
        "Rodrigo | 47\n",
        "Antoine |12\n",
        "Louis |8"
      ]
    },
    {
      "cell_type": "code",
      "metadata": {
        "id": "1fAUUSXAwHR8"
      },
      "source": [
        ""
      ],
      "execution_count": null,
      "outputs": []
    }
  ]
}